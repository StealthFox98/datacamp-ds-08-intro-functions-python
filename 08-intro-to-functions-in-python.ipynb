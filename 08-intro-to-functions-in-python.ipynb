{
 "cells": [
  {
   "cell_type": "markdown",
   "id": "d4c6ee67",
   "metadata": {},
   "source": [
    "# Chapter 8. Introduction to functions in Python"
   ]
  },
  {
   "cell_type": "markdown",
   "id": "89994b57",
   "metadata": {},
   "source": [
    "While built-in Python functions are cool, as a Data Scientist, you'll need functions that have functionality specific to your needs."
   ]
  },
  {
   "cell_type": "markdown",
   "id": "edf9eebd",
   "metadata": {},
   "source": [
    "# 8.1 Writing your own Python functions"
   ]
  },
  {
   "cell_type": "markdown",
   "id": "4024b0f0",
   "metadata": {},
   "source": [
    "## User-defined functions"
   ]
  },
  {
   "cell_type": "markdown",
   "id": "09e45a6f",
   "metadata": {},
   "source": [
    "### Defining a funciton\n",
    "\n",
    "- To define the function we begin with the keyword def, followed by the function name  and then followed by a set of parentheses and a colon.\n",
    "    - This piece of code is called a function header.\n",
    "- To complete the function definition, write the function body\n",
    "- Whenever this function is called, the code in the function body is run.\n",
    "\n",
    "```\n",
    "def square(): # Function header\n",
    "    new_value = 4 * *2 # Function body\n",
    "    print(new_value)\n",
    "square()\n",
    "```"
   ]
  },
  {
   "cell_type": "markdown",
   "id": "082b4acc",
   "metadata": {},
   "source": [
    "### Function parameters\n",
    "\n",
    "- To add that functionality, you add a parameter to the function definition in between the parentheses.\n",
    "- A quick word on parameters and arguments: when you define a function, you write parameters in the function header. When you call a function, you pass arguments into the function.\n",
    "\n",
    "```\n",
    "def square(value):\n",
    "    new_value = value * *2\n",
    "    print(new_value)\n",
    "square(4)\n",
    "```"
   ]
  },
  {
   "cell_type": "markdown",
   "id": "42a56653",
   "metadata": {},
   "source": [
    "### Return values from functions\n",
    "\n",
    "- What if we don't want to print that value directly and instead we want to return the squared value and assign it to some variable?\n",
    "- You can have your function return the new value by adding the ``return`` keyword, followed by the value to return.\n",
    "\n",
    "\n",
    "```\n",
    "def square(value):\n",
    "    new_value = value * *2\n",
    "    return new_value\n",
    "num = square(4)\n",
    "print(num)\n",
    "```"
   ]
  },
  {
   "cell_type": "markdown",
   "id": "566308a4",
   "metadata": {},
   "source": [
    "### Docstrings\n",
    "\n",
    "Docstrings are used to describe what your function does, such as the computations it performs or its return values.\n",
    "\n",
    "- These descriptions serve as documentation for your function so that anyone who reads your function's docstring understands what your function does, without having to trace through all the code in the function definition.\n",
    "- Function docstrings are placed in the immediate line after the function header and are placed in between triple quotation marks.\n",
    "\n",
    "```\n",
    "def square(value):\n",
    "    \"\"\"Returns the square of a value\"\"\"\n",
    "    new_value = value ** 2\n",
    "    return new_value\n",
    "```"
   ]
  },
  {
   "cell_type": "markdown",
   "id": "dd6e552a",
   "metadata": {},
   "source": [
    "\n",
    "## Multiple parameters and return values"
   ]
  },
  {
   "cell_type": "markdown",
   "id": "635f5a25",
   "metadata": {},
   "source": [
    "### Multiple function parameters\n",
    "\n",
    "- They accept more than 1 parameter\n",
    "- You should also change your function name AND docstrings to reflect this new behavior.\n",
    "- You can call the function by passing in two arguments because the function has two parameters, as declared in the function header.\n",
    "    - The order in which the arguments are passed correspond to the order of the parameters in the function header. \n",
    "\n",
    "```\n",
    "def raise_to_power(value1, value2):\n",
    "    \"\"\"Returns value1 to the power of value2\"\"\"\n",
    "    new_value = value1 ** value2\n",
    "    return new_value\n",
    "```"
   ]
  },
  {
   "cell_type": "markdown",
   "id": "bef12dcd",
   "metadata": {},
   "source": [
    "### Tuples\n",
    "\n",
    "- You can dmake your function return multiple values by constructing objects known as tuples in your functions.\n",
    "    - A tuple is like a list, in that it can contain multiple values.\n",
    "    - Firstly, unlike a list, a tuple is immutable, that is, you cannot modify the values in a tuple once it has been constructed.\n",
    "    - Secondly, while lists are defined using square brackets, tuples are constructed using a set of parentheses.\n",
    "\n",
    "```\n",
    "even_nums = (2, 4, 6)\n",
    "print(type(even_nums))\n",
    "```"
   ]
  },
  {
   "cell_type": "markdown",
   "id": "0935f9d5",
   "metadata": {},
   "source": [
    "#### 1. Unpacking tuples\n",
    "\n",
    "- Unpack a tuple into several variables in one line. Doing so means that you assign to the variables a, b, and c the tuple values, in the order that they appear in the tuple.\n",
    "\n",
    "```\n",
    "even_nums = (2, 4, 6)\n",
    "a, b, c = even_nums\n",
    "```"
   ]
  },
  {
   "cell_type": "markdown",
   "id": "3720a5d8",
   "metadata": {},
   "source": [
    "#### 2. Accessing tuple elements\n",
    "\n",
    "- Access individual tuple elements like you do with lists.\n",
    "\n",
    "```\n",
    "even_nums = (2, 4, 6)\n",
    "second_num = even_nums[1]\n",
    "print(second_num)\n",
    "```"
   ]
  },
  {
   "cell_type": "markdown",
   "id": "c9b5ad39",
   "metadata": {
    "vscode": {
     "languageId": "plaintext"
    }
   },
   "source": [
    "#### 3. Returning multiple values\n",
    "\n",
    "- We first change the name of our function and the docstring to reflect the new behavior of our function.\n",
    "- Then, in the function body, construct a tuple consisting of the values we want the function to return and, also in the function body, we return the tuple.\n",
    "\n",
    "```\n",
    "def raise_both(value1, value2):\n",
    "    \"\"\"Raise value1 to the power of value2 and vice versa.\"\"\"\"\n",
    "\n",
    "    new_value1 = value1 ** value2\n",
    "    new_value2 = value2 ** value1\n",
    "\n",
    "    new_tuple = (new_value1, new_value2)\n",
    "\n",
    "    return new_tuple\n",
    "\n",
    "result = raise_both(2, 3)\n",
    "print(result)\n",
    "```"
   ]
  },
  {
   "cell_type": "markdown",
   "id": "fecb0e29",
   "metadata": {},
   "source": [
    "# 8.2 Default arguments, variable-length arguments and scope"
   ]
  },
  {
   "cell_type": "markdown",
   "id": "77ad8cf2",
   "metadata": {},
   "source": [
    "## Scope and user-defined functions\n",
    "\n",
    "- Not all objects that you define are always accessible everywhere in a program.\n",
    "- Enter the idea of scope, which tells you which part of a program an object or a name may be accessed.\n",
    "- There are three types of scope that you should know.\n",
    "    1. Global scope. A name that is in the global scope means that it is defined in the main body of a script or a Python program.\n",
    "    2. Local scope. A name that is in a local scope means that it is defined within a function.\n",
    "    3. Built-in scope. Consists of names in the pre-defined built-ins module Python provides, such as print and sum.\n",
    "- **When we reference a name, first the local scope is searched, then the global. If the name is in neither, then the built-in scope is searched.**\n",
    "- **If Python cannot find the name in the local scope, it will then and only then look in the global scope.**\n",
    "\n",
    "```\n",
    "new_value = 10 # Variable defined under global scope\n",
    "def square(value):\n",
    "    new_value = value * *2 # Variable defined under local scope\n",
    "    return new_value\n",
    "square(3)\n",
    "```\n",
    "\n",
    "```\n",
    "new_value = 10 # Variable defined under global scope\n",
    "def square(value):\n",
    "    global new_val # alter the value of a global name within a function call\n",
    "    new_value = value * *2\n",
    "    return new_value\n",
    "square(3)\n",
    "```"
   ]
  },
  {
   "cell_type": "markdown",
   "id": "4fa5bb9f",
   "metadata": {},
   "source": [
    "## Nested functions\n",
    "\n",
    "- Useful to define an inner function within our function definition and call it where necessary.\n",
    "    - The syntax for the inner function is exactly the same as that for any other function.\n",
    "- Python searches the local scope of the function inner, then if it doesn't find x, it searches the scope of the function outer, which is called an enclosing function because it encloses the function inner.\n",
    "- If Python can't find x in the scope of the enclosing function, it only then searches the global scope and then the built-in scope.\n",
    "\n",
    "```\n",
    "def outer(...):\n",
    "    \"\"\"...\"\"\"\n",
    "    x = ...\n",
    "\n",
    "    def inner(...):\n",
    "        \"\"\"...\"\"\"\n",
    "        y = x ** 2\n",
    "        return...\n",
    "        \n",
    "    return ...\n",
    "```"
   ]
  },
  {
   "cell_type": "markdown",
   "id": "f3dfee14",
   "metadata": {},
   "source": [
    "### 1. Returning functions\n",
    "\n",
    "- This is a subtlety referred to as a closure in Computer Science.\n",
    "\n",
    "```\n",
    "def raise_val(n):\n",
    "    \"\"\"Return the inner function.\"\"\"\n",
    "    \n",
    "    def inner(x):\n",
    "        \"\"\"Raise x to the power of n\"\"\"\n",
    "        y = x ** 2\n",
    "        return raised\n",
    "        \n",
    "    return inner\n",
    "\n",
    "square = raise_val(2)\n",
    "cube = raise_val(3)\n",
    "print(square(2), cube(4))\n",
    "```"
   ]
  },
  {
   "cell_type": "markdown",
   "id": "d93179e8",
   "metadata": {},
   "source": [
    "### 2. Using nonlocal\n",
    "\n",
    "- In a nested function, you can use the keyword nonlocal to create and change names in an enclosing scope.\n",
    "\n",
    "```\n",
    "def outer():\n",
    "    \"\"\"Prints the value of n.\"\"\"\n",
    "    n = 1\n",
    "    \n",
    "    def inner():\n",
    "        nonlocal n\n",
    "        n = 2\n",
    "        print(n)\n",
    "        \n",
    "    inner()\n",
    "    print(n)\n",
    "```"
   ]
  },
  {
   "cell_type": "markdown",
   "id": "4e8fc5f9",
   "metadata": {},
   "source": [
    "## Default and flexible arguments\n",
    "\n",
    "- For being able to call the function without explicitly specifying every parameter."
   ]
  },
  {
   "cell_type": "markdown",
   "id": "fbfde987",
   "metadata": {},
   "source": [
    "### 1. Add a default argument\n",
    "\n",
    "- In the function header we follow the parameter of interest with an equals sign and the default argument value.\n",
    "\n",
    "```\n",
    "def(power, pow=1):\n",
    "    \"\"\"Raise number to the power of pow\"\"\"\n",
    "    new_value = number ** pow\n",
    "    return new_value\n",
    "\n",
    "power(9, 2) # value displayed is 81\n",
    "power(9) # value displayed is 9\n",
    "```"
   ]
  },
  {
   "cell_type": "markdown",
   "id": "30930807",
   "metadata": {},
   "source": [
    "### 2. Flexible arguments: *args\n",
    "\n",
    "- In the function definition, we use the parameter ``*args``: this then turns all the arguments passed to a function call into a tuple called args in the function body.\n",
    "\n",
    "```\n",
    "def add_all(*args):\n",
    "    \"\"\"Sum all values in *args toghether\"\"\"\n",
    "\n",
    "    # Initialize sum\n",
    "    sum_all = 0 \n",
    "\n",
    "    # Accumulate the sum\n",
    "    for num in args:\n",
    "        sum_all += num\n",
    "\n",
    "    return sum_all\n",
    "\n",
    "add_all(1, 2)\n",
    "add_all(5, 10, 15)\n",
    "```"
   ]
  },
  {
   "cell_type": "markdown",
   "id": "d5ebd3b0",
   "metadata": {},
   "source": [
    "### 3. Flexible arguments: *kwargs\n",
    "\n",
    "- You can also use a double star to pass an arbitrary number of keyword arguments, also called `**`kwargs, that is, arguments preceded by identifiers.\n",
    "- This turns the identifier-keyword pairs into a dictionary within the function body.\n",
    "- Then, in the function body all we need to do is to print all the key-value pairs stored in the dictionary kwargs.\n",
    "\n",
    "```\n",
    "print_all(name=\"Hugo Bowne-Anderson\", employer=\"DataCamp\")\n",
    "\n",
    "def print_all(*kwargs):\n",
    "    \"\"\"Print out key-value pairs in **kwargs.\"\"\"\n",
    "\n",
    "    # Print out the key-value pairs\n",
    "    for key, value in kwargs.items():\n",
    "        print(key + \": \" + value)\n",
    "```"
   ]
  },
  {
   "cell_type": "markdown",
   "id": "b369d5d0",
   "metadata": {},
   "source": [
    "# 8.3 Lambda functions and error-handling"
   ]
  },
  {
   "cell_type": "markdown",
   "id": "10504bfc",
   "metadata": {},
   "source": [
    "## Lambda functions\n",
    "\n",
    "There's a quicker way to write functions on the fly and these are called lambda functions because you use the keyword lambda.\n",
    "\n",
    "- After the keyword ``lambda``, we specify the names of the arguments; then we use a colon followed by the expression that specifies what we wish the function to return.`\n",
    "- Lambda functions allow you to write functions in a quick and potentially dirty way so it is recommended not to use them all the time\n",
    "\n",
    "```\n",
    "raise_to_power = lambda x, y: x ** y\n",
    "raise_to_power(2, 3)\n",
    "```"
   ]
  },
  {
   "cell_type": "markdown",
   "id": "f89e1974",
   "metadata": {},
   "source": [
    "#### 1. Anonymous function\n",
    "\n",
    "- ``map`` function takes two arguments, a function and a sequence (such as a list) and applies the function over all elements of the sequence.\n",
    "- We can pass lambda functions to map without even naming them and in this case we refer to them as anonymous functions.\n",
    "\n",
    "```\n",
    "nums = [48, 6, 9, 21, 1]\n",
    "square_all = map(lambda num: num ** 2, nums)\n",
    "print(square_all)\n",
    "```"
   ]
  },
  {
   "cell_type": "markdown",
   "id": "d36961e0",
   "metadata": {},
   "source": [
    "#### 2. Filter function\n",
    "\n",
    "- The function ``filter()`` offers a way to filter out elements from a list that don't satisfy certain criteria.\n",
    "\n",
    "```\n",
    "# Create a list of strings: fellowship\n",
    "fellowship = ['frodo', 'samwise', 'merry', 'pippin', 'aragorn', 'boromir', 'legolas', 'gimli', 'gandalf']\n",
    "\n",
    "# Use filter() to apply a lambda function over fellowship: result\n",
    "result = filter(lambda member: len(member) > 6, fellowship)\n",
    "\n",
    "# Convert result to a list: result_list\n",
    "result_list = list(result)\n",
    "\n",
    "# Print result_list\n",
    "print(result_list)\n",
    "```"
   ]
  },
  {
   "cell_type": "markdown",
   "id": "7d497856",
   "metadata": {},
   "source": [
    "#### 3. Reduce function\n",
    "\n",
    "- TThe ``reduce()`` function is useful for performing some computation on a list and, unlike map() and filter(), returns a single value as a result.\n",
    "- To use ``reduce()``, you must import it from the functools module.\n",
    "\n",
    "```\n",
    "# Import reduce from functools\n",
    "from functools import reduce\n",
    "\n",
    "# Create a list of strings: stark\n",
    "stark = ['robb', 'sansa', 'arya', 'brandon', 'rickon']\n",
    "\n",
    "# Use reduce() to apply a lambda function over stark: result\n",
    "result = reduce(lambda item1, item2: item1 + item2, stark)\n",
    "\n",
    "# Print the result\n",
    "print(result)\n",
    "```"
   ]
  },
  {
   "cell_type": "markdown",
   "id": "a0872ded",
   "metadata": {},
   "source": [
    "## Intro to error-handling"
   ]
  },
  {
   "cell_type": "markdown",
   "id": "ef429699",
   "metadata": {},
   "source": [
    "#### 1. Passing an incorrect argument\n",
    "\n",
    "- If we pass the float function the string 'hello', Python will throw an error telling me that it couldn't convert the string to a float.\n",
    "- In this case, it threw a ValueError and there are many types of errors."
   ]
  },
  {
   "cell_type": "markdown",
   "id": "6764db5e",
   "metadata": {},
   "source": [
    "#### 2. Passing valid and invalid arguments\n",
    "\n",
    "- We may wish to catch specific problems and write specific error messages.\n",
    "- If we pass a squared root function a string such as 'hello', then it throws an error corresponding to a line of code within the function definition.\n",
    "- This error says it was some sort of TypeError but the message may not be particularly useful to a user of our function."
   ]
  },
  {
   "cell_type": "markdown",
   "id": "065ea918",
   "metadata": {},
   "source": [
    "#### 3. Errors and exceptions\n",
    "\n",
    "- An error caught during execution is commonly called **excpetion**\n",
    "- The main way to catch such exceptions is the try-except clause, in which Python tries to run the code following try and if it can, all is well.\n",
    "- If it cannot due to an exception, it runs the code following except.\n",
    "\n",
    "```\n",
    "def sqrt(x):\n",
    "    \"\"\"Returns the square root of a number.\"\"\"\n",
    "    try:\n",
    "        return x ** 0.5\n",
    "    except:\n",
    "        print('x must be an int or float')\n",
    "\n",
    "sqrt(4) # result = 2.0\n",
    "sqrt('hi') # result = \"x must be an int or float\"\n",
    "```\n",
    "\n",
    "- We may also wish to only catch TypeErrors and let other errors pass through, in which case we would use except TypeError\n",
    "\n",
    "```\n",
    "def sqrt(x):\n",
    "    \"\"\"Returns the square root of a number.\"\"\"\n",
    "    try:\n",
    "        return x ** 0.5\n",
    "    except Type Error:\n",
    "        print('x must be an int or float')\n",
    "```\n",
    "\n",
    "- More often than not, instead of merely printing an error message, we'll want to actually raise an error by using the keyword raise.\n",
    "    - Using an if clause, we can raise a ValueError for specific cases.\n",
    "\n",
    "```\n",
    "def sqrt(x):\n",
    "    \"\"\"Returns the square root of a number.\"\"\"\n",
    "    if x < 0:\n",
    "        raise ValueError('x must be non-negative')\n",
    "    try:\n",
    "        return x ** 0.5\n",
    "    except Type Error:\n",
    "        print('x must be an int or float')\n",
    "\n",
    "sqrt(-9)\n",
    "```"
   ]
  }
 ],
 "metadata": {
  "language_info": {
   "name": "python"
  }
 },
 "nbformat": 4,
 "nbformat_minor": 5
}
